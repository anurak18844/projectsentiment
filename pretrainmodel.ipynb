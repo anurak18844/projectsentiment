{
 "cells": [
  {
   "cell_type": "code",
   "execution_count": 2,
   "id": "881ad91c",
   "metadata": {},
   "outputs": [
    {
     "name": "stdout",
     "output_type": "stream",
     "text": [
      "ERROR! Session/line number was not unique in database. History logging moved to new session 57\n"
     ]
    }
   ],
   "source": [
    "from transformers import (\n",
    "    CamembertTokenizer,\n",
    "    AutoModelForSequenceClassification,\n",
    "    pipeline\n",
    ")\n",
    "from thai2transformers.preprocess import process_transformers\n",
    "\n",
    "# Load pre-trained tokenizer\n",
    "tokenizer = CamembertTokenizer.from_pretrained(\n",
    "                                  'airesearch/wangchanberta-base-att-spm-uncased',\n",
    "                                  revision='main')\n",
    "tokenizer.additional_special_tokens = ['<s>NOTUSED', '</s>NOTUSED', '<_>']\n",
    "\n",
    "# Load pre-trained model\n",
    "model = AutoModelForSequenceClassification.from_pretrained(\n",
    "                                  'airesearch/wangchanberta-base-att-spm-uncased',\n",
    "                                  revision='finetuned@wisesight_sentiment')\n",
    "\n",
    "classify_sequence = pipeline(task='sentiment-analysis',\n",
    "          tokenizer=tokenizer,\n",
    "          model=model)\n",
    "\n",
    "# input_text = \"ไม่ยุ่งนะ ไม่เกี่ยวๆ\"\n",
    "# processed_input_text = process_transformers(input_text)\n",
    "# print(processed_input_text, '\\n')\n",
    "# print(classify_sequence(processed_input_text))\n"
   ]
  },
  {
   "cell_type": "code",
   "execution_count": 3,
   "id": "0deea044",
   "metadata": {},
   "outputs": [
    {
     "name": "stdout",
     "output_type": "stream",
     "text": [
      "ควันดำเกิน<_>สูดทีมึนหัว \n",
      "\n",
      "[{'label': 'neg', 'score': 0.6990223526954651}]\n"
     ]
    }
   ],
   "source": [
    "input_text = \"ควันดำเกิน สูดทีมึนหัว\"\n",
    "processed_input_text = process_transformers(input_text)\n",
    "print(processed_input_text, '\\n')\n",
    "print(classify_sequence(processed_input_text))"
   ]
  }
 ],
 "metadata": {
  "kernelspec": {
   "display_name": "Python 3",
   "language": "python",
   "name": "python3"
  },
  "language_info": {
   "codemirror_mode": {
    "name": "ipython",
    "version": 3
   },
   "file_extension": ".py",
   "mimetype": "text/x-python",
   "name": "python",
   "nbconvert_exporter": "python",
   "pygments_lexer": "ipython3",
   "version": "3.8.8"
  }
 },
 "nbformat": 4,
 "nbformat_minor": 5
}
